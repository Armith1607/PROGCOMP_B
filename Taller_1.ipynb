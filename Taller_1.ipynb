{
  "nbformat": 4,
  "nbformat_minor": 0,
  "metadata": {
    "colab": {
      "name": "Taller 1",
      "provenance": []
    },
    "kernelspec": {
      "name": "python3",
      "display_name": "Python 3"
    },
    "language_info": {
      "name": "python"
    }
  },
  "cells": [
    {
      "cell_type": "markdown",
      "source": [
        "#TALLER 1"
      ],
      "metadata": {
        "id": "QfEcUkIbqeiC"
      }
    },
    {
      "cell_type": "markdown",
      "source": [
        "#Ejercicio 1"
      ],
      "metadata": {
        "id": "HkvseJeNqlzy"
      }
    },
    {
      "cell_type": "code",
      "source": [
        "num1=int(input(\"¿cuál es el primer numero? \"))\n",
        "num2=int(input(\"¿cuál es el segundo numero? \"))\n",
        "if num2==0:\n",
        "  print(\"Error, no se puede dividir entre cero\")\n",
        "else:\n",
        "  print(num1/num2)\n",
        "  if num1 % num2==0:\n",
        "   print(\"la division es exacta\")\n",
        "  else:\n",
        "   print(f\"la division no es exacta. Cociente: {num1//num2} El residuo: {num1%num2}\")\n"
      ],
      "metadata": {
        "colab": {
          "base_uri": "https://localhost:8080/"
        },
        "id": "jUNyPyuzsiii",
        "outputId": "918fca70-b3b3-4968-fe27-0bbc14f70111"
      },
      "execution_count": 49,
      "outputs": [
        {
          "output_type": "stream",
          "name": "stdout",
          "text": [
            "¿cuál es el primer numero? 15\n",
            "¿cuál es el segundo numero? 0\n",
            "Error, no se puede dividir entre cero\n"
          ]
        }
      ]
    },
    {
      "cell_type": "markdown",
      "source": [
        "#EJERCICIO 2"
      ],
      "metadata": {
        "id": "bq41kj4Uz6pp"
      }
    },
    {
      "cell_type": "code",
      "source": [
        "num1=int(input(\"Escriba el primer numero: \"))\n",
        "num2=int(input(\"Escriba el segundo numero: \"))\n",
        "if es_multiplo(num1, num2):\n",
        " print(\"Si es multiplo\")\n",
        "else: \n",
        "  print(f\"No, {num1} no es multiplo de {num2}\")\n",
        "  if es_multiplo(num2, num1):\n",
        "    print(f\"Pero {num2}, si es multiplo de {num1}\")\n",
        "  else:\n",
        "    print(f\"{num1} no es multiplo de {num2}, ni {num2} es multiplo de {num1}\")"
      ],
      "metadata": {
        "colab": {
          "base_uri": "https://localhost:8080/"
        },
        "id": "wxUeblEez-w5",
        "outputId": "2d3d4dc2-1c6c-4141-9a3c-073934cead03"
      },
      "execution_count": 92,
      "outputs": [
        {
          "output_type": "stream",
          "name": "stdout",
          "text": [
            "Escriba el primer numero: 2\n",
            "Escriba el segundo numero: 4\n",
            "No, 2 no es multiplo de 4\n",
            "Pero 4, si es multiplo de 2\n"
          ]
        }
      ]
    },
    {
      "cell_type": "markdown",
      "source": [
        "#EJERCICIO 3"
      ],
      "metadata": {
        "id": "txDHxAHyC92P"
      }
    },
    {
      "cell_type": "code",
      "source": [
        ">>> numeros = [16, 4, 9, 1, 3, 20, 8]\n",
        ">>> numeros.sort(reverse=True)\n",
        ">>> numeros\n",
        "[20, 16, 9, 8, 4, 3, 1]\n",
        "\n",
        ">>> numeros = [16, 4, 9, 1, 3, 20, 8]\n",
        ">>> ordenados = sorted(numeros, reverse=True)\n",
        ">>> ordenados"
      ],
      "metadata": {
        "colab": {
          "base_uri": "https://localhost:8080/"
        },
        "id": "zDGsYif7Jj7R",
        "outputId": "e53b463f-dd5d-4c88-e3db-2bb22ac1d5b2"
      },
      "execution_count": 107,
      "outputs": [
        {
          "output_type": "execute_result",
          "data": {
            "text/plain": [
              "[20, 16, 9, 8, 4, 3, 1]"
            ]
          },
          "metadata": {},
          "execution_count": 107
        }
      ]
    },
    {
      "cell_type": "markdown",
      "source": [
        "#ejercicio 15"
      ],
      "metadata": {
        "id": "McdCx6S9EOrG"
      }
    },
    {
      "cell_type": "code",
      "source": [
        "a=int(input(\"Escriba el numero \"))\n",
        "if a<0:\n",
        "  a=a*-1\n",
        "  print(f\"el valor absoluto es: {a}\")\n",
        "else: \n",
        "  print(f\"es valor absoluto es: {a}\")"
      ],
      "metadata": {
        "colab": {
          "base_uri": "https://localhost:8080/"
        },
        "id": "xqd2ay3HEQq3",
        "outputId": "978acf08-efd7-4a23-a129-ff24133c84fe"
      },
      "execution_count": 100,
      "outputs": [
        {
          "output_type": "stream",
          "name": "stdout",
          "text": [
            "Escriba el numero -56\n",
            "el valor absoluto es: 56\n"
          ]
        }
      ]
    }
  ]
}