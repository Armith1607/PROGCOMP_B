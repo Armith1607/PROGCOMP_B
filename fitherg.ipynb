{
  "nbformat": 4,
  "nbformat_minor": 0,
  "metadata": {
    "colab": {
      "provenance": []
    },
    "kernelspec": {
      "name": "python3",
      "display_name": "Python 3"
    },
    "language_info": {
      "name": "python"
    }
  },
  "cells": [
    {
      "cell_type": "code",
      "execution_count": null,
      "metadata": {
        "colab": {
          "base_uri": "https://localhost:8080/"
        },
        "id": "AUZzhEzONTBa",
        "outputId": "4813d3a4-5686-416a-fe3c-65aee904e347"
      },
      "outputs": [
        {
          "name": "stdout",
          "output_type": "stream",
          "text": [
            "Número de estudiantes clase 1: 34\n",
            "Número de estudiantes clase 2: 3\n",
            "Número de estudiantes clase 3: 23\n",
            "Nombre: juand\n",
            "Nota 1: 34\n",
            "Nota 2: 2\n",
            "Nota 3: 1\n",
            "Nombre: juan fernando\n",
            "Nota 1: 23\n",
            "Nota 2: 23\n",
            "Nota 3: 12\n",
            "Nombre: xd\n",
            "Nota 1: 2\n",
            "Nota 2: 1\n",
            "Nota 3: 3\n",
            "Nombre: perrez\n",
            "Nota 1: 3232\n",
            "Nota 2: 323\n",
            "Nota 3: 23\n"
          ]
        }
      ],
      "source": [
        "clase1={\"est\":[\"None\"],\"notas1\":[\"None\"],\"notas2\":[\"None\"],\"notas3\":[\"None\"],\"promedio\":[\"None\"]}\n",
        "clase2={\"est\":[\"None\"],\"notas1\":[\"None\"],\"notas2\":[\"None\"],\"notas3\":[\"None\"],\"promedio\":[\"None\"]}\n",
        "clase3={\"est\":[\"None\"],\"notas1\":[\"None\"],\"notas2\":[\"None\"],\"notas3\":[\"None\"],\"promedio\":[\"None\"]}\n",
        "n1=int(input(\"Número de estudiantes clase 1: \"))\n",
        "n2=int(input(\"Número de estudiantes clase 2: \"))\n",
        "n3=int(input(\"Número de estudiantes clase 3: \"))\n",
        "\n",
        "clase1[\"est\"]=clase1[\"est\"]*n1\n",
        "clase1[\"notas1\"]=clase1[\"notas1\"]*n1\n",
        "clase1[\"notas2\"]=clase1[\"notas2\"]*n1\n",
        "clase1[\"notas3\"]=clase1[\"notas3\"]*n1\n",
        "clase1[\"promedio\"]=clase1[\"promedio\"]*n1\n",
        "\n",
        "clase2[\"est\"]=clase1[\"est\"]*n2\n",
        "clase2[\"notas1\"]=clase1[\"notas1\"]*n2\n",
        "clase2[\"notas2\"]=clase1[\"notas2\"]*n2\n",
        "clase2[\"notas3\"]=clase1[\"notas3\"]*n2\n",
        "clase2[\"promedio\"]=clase1[\"promedio\"]*n2\n",
        "\n",
        "clase3[\"est\"]=clase1[\"est\"]*n3\n",
        "clase3[\"notas1\"]=clase1[\"notas1\"]*n3\n",
        "clase3[\"notas2\"]=clase1[\"notas2\"]*n3\n",
        "clase3[\"notas3\"]=clase1[\"notas3\"]*n3\n",
        "clase3[\"promedio\"]=clase1[\"promedio\"]*n3\n",
        "\n",
        "for a in range(0,n1):\n",
        "  clase1[\"est\"][a]=input(\"Nombre: \")\n",
        "  clase1[\"notas1\"][a]=int(input(\"Nota 1: \"))\n",
        "  clase1[\"notas2\"][a]=int(input(\"Nota 2: \"))\n",
        "  clase1[\"notas3\"][a]=int(input(\"Nota 3: \"))\n",
        "  clase1[\"promedio\"][a]=(clase1[\"notas1\"][a]*clase1[\"notas2\"][a]*clase1[\"notas3\"][a])/3\n",
        "for a in range(0,n2):\n",
        "  clase2[\"est\"][a]=input(\"Nombre: \")\n",
        "  clase2[\"notas1\"][a]=int(input(\"Nota 1: \"))\n",
        "  clase2[\"notas2\"][a]=int(input(\"Nota 2: \"))\n",
        "  clase2[\"notas3\"][a]=int(input(\"Nota 3: \"))\n",
        "  clase2[\"promedio\"][a]=(clase2[\"notas1\"][a]*clase2[\"notas2\"][a]*clase2[\"notas3\"][a])/3\n",
        "for a in range(0,n3):\n",
        "  clase3[\"est\"][a]=input(\"Nombre: \")\n",
        "  clase3[\"notas1\"][a]=int(input(\"Nota 1: \"))\n",
        "  clase3[\"notas2\"][a]=int(input(\"Nota 2: \"))\n",
        "  clase3[\"notas3\"][a]=int(input(\"Nota 3: \"))\n",
        "  clase3[\"promedio\"][a]=(clase3[\"notas1\"][a]*clase3[\"notas2\"][a]*clase3[\"notas3\"][a])/32\n",
        "\n",
        "\n",
        "\n",
        "clase1[\"est\"]\n",
        "\n"
      ]
    }
  ]
}