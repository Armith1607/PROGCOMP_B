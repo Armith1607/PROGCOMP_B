{
  "nbformat": 4,
  "nbformat_minor": 0,
  "metadata": {
    "colab": {
      "provenance": [],
      "collapsed_sections": []
    },
    "kernelspec": {
      "name": "python3",
      "display_name": "Python 3"
    },
    "language_info": {
      "name": "python"
    }
  },
  "cells": [
    {
      "cell_type": "markdown",
      "source": [
        "##Significados de estas palabras"
      ],
      "metadata": {
        "id": "9oW9QhiRyIjv"
      }
    },
    {
      "cell_type": "code",
      "execution_count": null,
      "metadata": {
        "colab": {
          "base_uri": "https://localhost:8080/"
        },
        "id": "F8tpQkPQxQ5t",
        "outputId": "c83a0975-701d-43b7-9629-79048711b852"
      },
      "outputs": [
        {
          "output_type": "stream",
          "name": "stdout",
          "text": [
            "False True False\n",
            "1\n"
          ]
        }
      ],
      "source": [
        "#False: false tiene el valor falso (numéricamente es cero)\n",
        "#True:true tiene el valor cierto (numéricamente es uno)\n",
        "x=False\n",
        "y=True\n",
        "\n",
        "z= True and False \n",
        "h= True or False \n",
        "j= not True\n",
        "\n",
        "print(z,h,j)\n",
        "print(z+h)"
      ]
    },
    {
      "cell_type": "code",
      "source": [
        "#None: representa la ausencia de un valor\n",
        "milista =[2,None,3,None,None,8,None,9]\n",
        "print(\"Mi lista es:\" + str(milista))\n",
        "rta=[i for i in milista if i]\n",
        "print(\"Lista después de eliminar los valores Ninguno:\" + str(rta))"
      ],
      "metadata": {
        "colab": {
          "base_uri": "https://localhost:8080/"
        },
        "id": "hrNBnlSW2OBe",
        "outputId": "225e2296-5f3c-4ec6-f898-09fe747b1970"
      },
      "execution_count": null,
      "outputs": [
        {
          "output_type": "stream",
          "name": "stdout",
          "text": [
            "Mi lista es:[2, None, 3, None, None, 8, None, 9]\n",
            "Lista después de eliminar los valores Ninguno:[2, 3, 8, 9]\n"
          ]
        }
      ]
    },
    {
      "cell_type": "code",
      "source": [
        "#and: asocia dos términos o frases y busca un registro coincidente si ambos términos o frases existen en un registro\n",
        "x=6\n",
        "y=7\n",
        "if (x+y and y+x)==13:\n",
        "  print(\"Hello mi rey\")\n",
        "else:\n",
        "  print(\"Khe\")"
      ],
      "metadata": {
        "colab": {
          "base_uri": "https://localhost:8080/"
        },
        "id": "SvrjVSqU8nbA",
        "outputId": "d84b3850-7c72-49bb-afad-96e28629811b"
      },
      "execution_count": null,
      "outputs": [
        {
          "output_type": "stream",
          "name": "stdout",
          "text": [
            "Hello mi rey\n"
          ]
        }
      ]
    },
    {
      "cell_type": "code",
      "source": [
        "#as: Para asignarle otro nombre a una funcion\n",
        "def Area_cuadrado(x):\n",
        "  return x*x\n",
        "\n",
        "Area_cuadrado as F_funcion\n"
      ],
      "metadata": {
        "id": "c7ZSMcb59Y44"
      },
      "execution_count": 3,
      "outputs": []
    },
    {
      "cell_type": "code",
      "source": [
        "#assert: El uso de assert en Python nos permite realizar comprobaciones. \n",
        "#Si la expresión contenida dentro del mismo es False, se lanzará una excepción, concretamente AssertionError.\n",
        "assert(1+1==2)"
      ],
      "metadata": {
        "id": "5AV6PVbiGfsY"
      },
      "execution_count": 1,
      "outputs": []
    },
    {
      "cell_type": "code",
      "source": [
        "#break: la instrucción break le proporciona la oportunidad de cerrar un bucle cuando se activa una condición externa.\n",
        "for i in range(5):\n",
        "    print(i)\n",
        "    break"
      ],
      "metadata": {
        "colab": {
          "base_uri": "https://localhost:8080/"
        },
        "id": "TCavl_0iHkMN",
        "outputId": "d7836d09-e006-4b91-a891-9d4243db21f6"
      },
      "execution_count": null,
      "outputs": [
        {
          "output_type": "stream",
          "name": "stdout",
          "text": [
            "0\n"
          ]
        }
      ]
    },
    {
      "cell_type": "code",
      "source": [
        "#class: proveen todas las características normales de la Programación Orientada a Objetos\n",
        "class Alumno:\n",
        "\n",
        "    def __init__(self, nombre):\n",
        "        self.nombre = nombre\n",
        "\n",
        "    def saludar(self):\n",
        "        \"\"\"Imprime un saludo en pantalla.\"\"\"\n",
        "        print(f\"¡Hola, {self.nombre}!\")\n",
        "\n",
        "\n",
        "alumno = Alumno(\"Pablo\")\n",
        "alumno.saludar()\n"
      ],
      "metadata": {
        "colab": {
          "base_uri": "https://localhost:8080/"
        },
        "id": "Qk_BGpBPIFDK",
        "outputId": "57f1ff6e-9529-4fb4-9543-2c1253d15cb7"
      },
      "execution_count": null,
      "outputs": [
        {
          "output_type": "stream",
          "name": "stdout",
          "text": [
            "¡Hola, Pablo!\n"
          ]
        }
      ]
    },
    {
      "cell_type": "code",
      "source": [
        "#continue: da la opción de omitir la parte de un bucle en la que se activa una condición externa, pero continuar para completar el resto del bucle.\n",
        "number = 0\n",
        "\n",
        "for number in range(10):\n",
        "    if number == 5:\n",
        "        continue    \n",
        "\n",
        "    print('Number is ' + str(number))\n",
        "\n",
        "print('Out of loop')\n"
      ],
      "metadata": {
        "colab": {
          "base_uri": "https://localhost:8080/"
        },
        "id": "w16DskpEKwSK",
        "outputId": "0cab2d4e-45a1-4167-8fd3-d410bcfc5218"
      },
      "execution_count": null,
      "outputs": [
        {
          "output_type": "stream",
          "name": "stdout",
          "text": [
            "Number is 0\n",
            "Number is 1\n",
            "Number is 2\n",
            "Number is 3\n",
            "Number is 4\n",
            "Number is 6\n",
            "Number is 7\n",
            "Number is 8\n",
            "Number is 9\n",
            "Out of loop\n"
          ]
        }
      ]
    },
    {
      "cell_type": "code",
      "source": [
        "#def: Sirve para definir una funcion\n",
        "def Elevar_2(x):\n",
        "  return x*x\n",
        "x=int(input(\"Escriba un numero: \")) \n",
        "print(Elevar_2(x))"
      ],
      "metadata": {
        "colab": {
          "base_uri": "https://localhost:8080/"
        },
        "id": "7kuXPKODKmzI",
        "outputId": "2bab5e9e-21ea-40f5-f31f-c99c488bd9cf"
      },
      "execution_count": null,
      "outputs": [
        {
          "output_type": "stream",
          "name": "stdout",
          "text": [
            "Escriba un numero: 5\n",
            "25\n"
          ]
        }
      ]
    },
    {
      "cell_type": "code",
      "source": [
        "#Del:"
      ],
      "metadata": {
        "id": "d5P9P_4cM9ED"
      },
      "execution_count": null,
      "outputs": []
    },
    {
      "cell_type": "code",
      "source": [
        "#elif:podría traducirse como Else If y se utiliza para enlazar varios else if sin aumentar las tabulaciones\n",
        "a = 2 + 3\n",
        "if a == 4: #condicion si a es exactamente cuatro, entonces(:)\n",
        "    print (\"A es igual a cuatro\") # Imprimir\n",
        "elif a == 5:\n",
        "    print (\"A es igual a cinco\")\n",
        "elif a == 6:\n",
        "    print (\"A es igual a seis\")\n",
        "else:\n",
        "    print (\"No se cumple la condición\")\n"
      ],
      "metadata": {
        "colab": {
          "base_uri": "https://localhost:8080/"
        },
        "id": "ZETJKppONHxx",
        "outputId": "f21e2d19-c482-49fd-9488-5e11a965cfaa"
      },
      "execution_count": null,
      "outputs": [
        {
          "output_type": "stream",
          "name": "stdout",
          "text": [
            "A es igual a cinco\n"
          ]
        }
      ]
    },
    {
      "cell_type": "code",
      "source": [
        "#else:normalmente se encuentra como escape a un if y debajo de este\n",
        "a = 2 + 3\n",
        "if a == 4: \n",
        "    print (\"A es igual a cuatro\") # Imprimir\n",
        "else:\n",
        "    print (\"No se cumple la condicion\")"
      ],
      "metadata": {
        "colab": {
          "base_uri": "https://localhost:8080/"
        },
        "id": "sCSyYVRYOJnh",
        "outputId": "34b84512-b663-474b-8e06-61e1c526f781"
      },
      "execution_count": null,
      "outputs": [
        {
          "output_type": "stream",
          "name": "stdout",
          "text": [
            "No se cumple la condicion\n"
          ]
        }
      ]
    },
    {
      "cell_type": "code",
      "source": [
        "#if: es una condicion\n",
        "a = 2 + 2\n",
        "if a == 4: \n",
        "    print (\"A es igual a cuatro\") "
      ],
      "metadata": {
        "colab": {
          "base_uri": "https://localhost:8080/"
        },
        "id": "kdPz9oWhOdp4",
        "outputId": "82819906-1bce-4a67-fe40-8e377b5312dc"
      },
      "execution_count": null,
      "outputs": [
        {
          "output_type": "stream",
          "name": "stdout",
          "text": [
            "A es igual a cuatro\n"
          ]
        }
      ]
    },
    {
      "cell_type": "code",
      "source": [
        "#except: El bloque except se ejecutará cuando el bloque try falle debido a un error. \n",
        "try:\n",
        "    d = 2 + \"Hola\" \n",
        "except ZeroDivisionError:\n",
        "    print(\"No se puede dividir entre cero!\")\n",
        "except TypeError:\n",
        "    print(\"Problema de tipos!\")"
      ],
      "metadata": {
        "colab": {
          "base_uri": "https://localhost:8080/"
        },
        "id": "aXyCmM5vPOMM",
        "outputId": "dd11341f-fc75-4996-e88f-2223b0deca04"
      },
      "execution_count": null,
      "outputs": [
        {
          "output_type": "stream",
          "name": "stdout",
          "text": [
            "Problema de tipos!\n"
          ]
        }
      ]
    },
    {
      "cell_type": "code",
      "source": [
        "#finally: puede ubicarse un bloque finally donde se escriben las sentencias de finalización, que son típicamente acciones de limpieza\n",
        "try:\n",
        "    archi1=open(\"datos.txt\",\"w\") \n",
        "    archi1.write(\"Primer línea.\\n\") \n",
        "    archi1.write(\"Segunda línea.\\n\") \n",
        "    archi1.write(\"Tercer línea.\\n\")  \n",
        "    archi1.write(3334)\n",
        "except TypeError:\n",
        "    print(\"No se puede grabar un entero con write\")    \n",
        "finally:\n",
        "    archi1.close() \n",
        "    print(\"Se cerró el archivo\")"
      ],
      "metadata": {
        "colab": {
          "base_uri": "https://localhost:8080/"
        },
        "id": "Ce_64imMP5JA",
        "outputId": "befe591a-0b39-4826-d073-f79bde439cd9"
      },
      "execution_count": null,
      "outputs": [
        {
          "output_type": "stream",
          "name": "stdout",
          "text": [
            "No se puede grabar un entero con write\n",
            "Se cerró el archivo\n"
          ]
        }
      ]
    },
    {
      "cell_type": "code",
      "source": [
        "#for: El bucle for se utiliza para recorrer los elementos de un objeto iterable (lista, tupla, conjunto, diccionario,etc)\n",
        "for i in [1, 3, 5, 7, 9]:\n",
        "    x = i**2 - (i-1)*(i+1)\n",
        "    print(x, end=\", \") "
      ],
      "metadata": {
        "colab": {
          "base_uri": "https://localhost:8080/"
        },
        "id": "_PuHyGRzQSjf",
        "outputId": "7c95750b-f67d-4e22-e3c1-baa444c957fd"
      },
      "execution_count": null,
      "outputs": [
        {
          "output_type": "stream",
          "name": "stdout",
          "text": [
            "1, 1, 1, 1, 1, "
          ]
        }
      ]
    },
    {
      "cell_type": "code",
      "source": [
        "#from: se utiliza en conjunto a la previa sentencia import para importar un módulo.\n",
        "import random\n",
        "def es_multiplo(x,y):\n",
        "  return x%y\n",
        "x=int(input(\"Escriba un numero: \"))\n",
        "y=int(input(\"Escriba otro numero: \"))\n",
        "\n",
        "from random import es_multiplo\n",
        "\n",
        "print(es_multiplo(x,y))"
      ],
      "metadata": {
        "colab": {
          "base_uri": "https://localhost:8080/"
        },
        "id": "SPqHqUtDQppo",
        "outputId": "76df46a4-62b7-494a-da2d-0d58ccaac17a"
      },
      "execution_count": null,
      "outputs": [
        {
          "output_type": "stream",
          "name": "stdout",
          "text": [
            "Escriba un numero: 3\n",
            "Escriba otro numero: 4\n",
            "3\n"
          ]
        }
      ]
    },
    {
      "cell_type": "code",
      "source": [
        "#Global:El alcance global significa que la variable es accesible desde cualquier lugar del programa. \n",
        "date = \"17-06-2002\"\n",
        "\n",
        "def update_date():\n",
        "  global date \n",
        "  date = \"12-03-2021\"\n",
        "\n",
        "update_date()\n",
        "print(date)"
      ],
      "metadata": {
        "colab": {
          "base_uri": "https://localhost:8080/"
        },
        "id": "7mXeisG9oU0N",
        "outputId": "8add42b2-31a6-44f4-deaa-313f1719129c"
      },
      "execution_count": null,
      "outputs": [
        {
          "output_type": "stream",
          "name": "stdout",
          "text": [
            "12-03-2021\n"
          ]
        }
      ]
    },
    {
      "cell_type": "code",
      "source": [
        "#import: La sentencia import se usa para importar funciones que han sido exportadas desde un módulo externo.\n",
        "import random     "
      ],
      "metadata": {
        "id": "VEsnI6NEj_Ro"
      },
      "execution_count": null,
      "outputs": []
    },
    {
      "cell_type": "code",
      "source": [
        "#in: Es un operador de pertenencia\n",
        "a = [1,2,3,4,5]\n",
        "print(3 in a )"
      ],
      "metadata": {
        "colab": {
          "base_uri": "https://localhost:8080/"
        },
        "id": "pAqPZWoYqsVN",
        "outputId": "61d44b63-4356-4c52-b99a-7667c8595046"
      },
      "execution_count": null,
      "outputs": [
        {
          "output_type": "stream",
          "name": "stdout",
          "text": [
            "True\n"
          ]
        }
      ]
    },
    {
      "cell_type": "code",
      "source": [
        "#is: Es un operador de identidad\n",
        "a = 3\n",
        "b = 3  \n",
        "c = 4\n",
        "print(a is b)\n",
        "print(a is not b)\n",
        "print(a is not c) "
      ],
      "metadata": {
        "colab": {
          "base_uri": "https://localhost:8080/"
        },
        "id": "Y6DE1X3ssaz_",
        "outputId": "24c65295-0445-4a62-f768-3ed3b3e95bbe"
      },
      "execution_count": null,
      "outputs": [
        {
          "output_type": "stream",
          "name": "stdout",
          "text": [
            "True\n",
            "False\n",
            "True\n"
          ]
        }
      ]
    },
    {
      "cell_type": "code",
      "source": [
        "#lambda: se usa cuando necesitas una función sencilla y de rápido acceso\n",
        "mi_lista = [1, 2, 3, 4, 5, 6]\n",
        "lista_nueva = list(map(lambda x: x * 2, mi_lista))\n",
        "print(lista_nueva)  # [2, 4, 6, 8, 10, 12]\n"
      ],
      "metadata": {
        "colab": {
          "base_uri": "https://localhost:8080/"
        },
        "id": "bQq20vTps5-i",
        "outputId": "c978d069-3ecd-4df4-c202-905d6879e9f0"
      },
      "execution_count": null,
      "outputs": [
        {
          "output_type": "stream",
          "name": "stdout",
          "text": [
            "[2, 4, 6, 8, 10, 12]\n"
          ]
        }
      ]
    },
    {
      "cell_type": "code",
      "source": [
        "#nonlocal:se utiliza para establecer el alcance de una variable en particular. Se utiliza principalmente en los casos en que se produce el anidamiento en un programa.\n",
        "a = 0\n",
        "def outr():\n",
        "    a = 1\n",
        "    def innr():\n",
        "        nonlocal a\n",
        "        a = 2\n",
        "        print(\"x:\", a)\n",
        "    innr()\n",
        "    print(\"y:\", a)\n",
        "outr()\n",
        "print(\"z:\", a)"
      ],
      "metadata": {
        "colab": {
          "base_uri": "https://localhost:8080/"
        },
        "id": "adbymXDKtg41",
        "outputId": "b33661be-a048-478a-f10e-6f2c42602cd0"
      },
      "execution_count": null,
      "outputs": [
        {
          "output_type": "stream",
          "name": "stdout",
          "text": [
            "x: 2\n",
            "y: 2\n",
            "z: 0\n"
          ]
        }
      ]
    },
    {
      "cell_type": "code",
      "source": [
        "#not: actúa como operador de negación.\n",
        "x=9\n",
        "y=10\n",
        "if not x+y==20:\n",
        "  print(\"Armith xd\")\n",
        "else:\n",
        "  print(\"v:\")  "
      ],
      "metadata": {
        "colab": {
          "base_uri": "https://localhost:8080/"
        },
        "id": "cocngLssuOvt",
        "outputId": "dbfbaddb-0712-457e-f3f7-09e52dec466b"
      },
      "execution_count": null,
      "outputs": [
        {
          "output_type": "stream",
          "name": "stdout",
          "text": [
            "Armith xd\n"
          ]
        }
      ]
    },
    {
      "cell_type": "code",
      "source": [
        "#or: Devuelve True si alguno de los operandos es True (A o B)\n",
        "if (8+9 or 7-10)>0:\n",
        "  print(\"Barbaro\")\n",
        "else:\n",
        "  print(\"WENAS\")  "
      ],
      "metadata": {
        "colab": {
          "base_uri": "https://localhost:8080/"
        },
        "id": "FQDTZt84u4Uh",
        "outputId": "1dfb9ec0-97ae-4aec-cee2-38eb86fbbe45"
      },
      "execution_count": null,
      "outputs": [
        {
          "output_type": "stream",
          "name": "stdout",
          "text": [
            "Barbaro\n"
          ]
        }
      ]
    },
    {
      "cell_type": "code",
      "source": [
        "#pass: le indica al programa que ignore esa condición y continúe ejecutando el programa como de costumbre\n",
        "number = 0\n",
        "\n",
        "for number in range(10):\n",
        "    if number == 5:\n",
        "        pass    \n",
        "\n",
        "    print('número ' + str(number))\n",
        "\n",
        "print('xd')"
      ],
      "metadata": {
        "colab": {
          "base_uri": "https://localhost:8080/"
        },
        "id": "9b1rJgvozqwd",
        "outputId": "5695781d-a276-4b06-ec3a-380c24406ef5"
      },
      "execution_count": null,
      "outputs": [
        {
          "output_type": "stream",
          "name": "stdout",
          "text": [
            "número 0\n",
            "número 1\n",
            "número 2\n",
            "número 3\n",
            "número 4\n",
            "número 5\n",
            "número 6\n",
            "número 7\n",
            "número 8\n",
            "número 9\n",
            "xd\n"
          ]
        }
      ]
    },
    {
      "cell_type": "code",
      "source": [
        "#raise:Para levantar una excepción de cualquier tipo\n",
        "def dividir(dividendo, divisor):\n",
        "\n",
        "    try:\n",
        "        resultado = dividendo / divisor\n",
        "        return resultado   \n",
        "    except ZeroDivisionError:\n",
        "        raise ZeroDivisionError(\"El divisor no puede ser cero\")\n",
        "   \n",
        " \n"
      ],
      "metadata": {
        "id": "7bL0YoiN1EIM"
      },
      "execution_count": null,
      "outputs": []
    },
    {
      "cell_type": "code",
      "source": [
        "#return: e utiliza para establecer el resultado (o valor de retorno) de una función.\n",
        "def multiplicacion(x,y):\n",
        "  return x*y\n",
        "x=int(input(\"Escriba un numero: \"))\n",
        "y=int(input(\"Escriba otro numero: \"))\n",
        "\n",
        "\n",
        "print(multiplicacion(x,y))"
      ],
      "metadata": {
        "colab": {
          "base_uri": "https://localhost:8080/"
        },
        "id": "e2R9mqvt5OzC",
        "outputId": "8c7cafc7-113e-44b0-aa73-82c7e7af0853"
      },
      "execution_count": null,
      "outputs": [
        {
          "output_type": "stream",
          "name": "stdout",
          "text": [
            "Escriba un numero: 4\n",
            "Escriba otro numero: 3\n",
            "12\n"
          ]
        }
      ]
    },
    {
      "cell_type": "code",
      "source": [
        "#try:EL bloque try es el bloque con las sentencias que quieres ejecutar.\n",
        "import math\n",
        "\n",
        "def RaizCuadrada(numero):\n",
        "    try:\n",
        "       return math.sqrt(numero)\n",
        "    except ValueError:\n",
        "       return 'Error: No se puede calcular la raíz cuadrada de ' + str(numero)\n",
        "\n",
        "print(RaizCuadrada(4))\n",
        "print(RaizCuadrada(13))\n",
        "print(RaizCuadrada(100))\n",
        "print(RaizCuadrada(-1))\n",
        "print(RaizCuadrada(25)) "
      ],
      "metadata": {
        "colab": {
          "base_uri": "https://localhost:8080/"
        },
        "id": "036IN6bN5xX0",
        "outputId": "72d1eaa9-c488-4e17-f802-92abcd535211"
      },
      "execution_count": null,
      "outputs": [
        {
          "output_type": "stream",
          "name": "stdout",
          "text": [
            "2.0\n",
            "3.605551275463989\n",
            "10.0\n",
            "Error: No se puede calcular la raíz cuadrada de -1\n",
            "5.0\n"
          ]
        }
      ]
    },
    {
      "cell_type": "code",
      "source": [
        "#while: evalúa una condición y luego ejecuta un bloque de código si la condición es verdadera\n",
        "dia = 0    \n",
        "semana = ['Lunes', 'Martes', 'Miércoles', 'Jueves', 'Viernes', 'Sabado', 'Domingo']\n",
        "while dia < 7:\n",
        "   print(\"Hoy es \" + semana[dia])\n",
        "   dia += 1"
      ],
      "metadata": {
        "colab": {
          "base_uri": "https://localhost:8080/"
        },
        "id": "ZiAhrvAO-bU0",
        "outputId": "9ca6a1dc-02ad-4757-89aa-a62437fac08d"
      },
      "execution_count": null,
      "outputs": [
        {
          "output_type": "stream",
          "name": "stdout",
          "text": [
            "Hoy es Lunes\n",
            "Hoy es Martes\n",
            "Hoy es Miércoles\n",
            "Hoy es Jueves\n",
            "Hoy es Viernes\n",
            "Hoy es Sabado\n",
            "Hoy es Domingo\n"
          ]
        }
      ]
    },
    {
      "cell_type": "code",
      "source": [
        "#with:se usa para ajustar la ejecución de un bloque con métodos definidos por un administrador de contexto\n",
        "\n",
        "with open('file_path', 'w') as file:\n",
        "\tfile.write('hello world !')\n",
        "\n",
        "\n"
      ],
      "metadata": {
        "id": "zAU_thd8-1ML"
      },
      "execution_count": null,
      "outputs": []
    },
    {
      "cell_type": "code",
      "source": [
        "#yield: es una orden muy similar a un return, con una gran diferencia, \n",
        "#yield pausará la ejecución de tu función y guardará el estado de la misma hasta que decidas usarla de nuevo\n",
        "def numeros_naturales():\n",
        "  n = 1\n",
        "  while True:\n",
        "    yield n\n",
        "    n += 1\n",
        " \n",
        "  for natural in numeros_naturales():\n",
        "   print(natural)"
      ],
      "metadata": {
        "id": "c69l6pjWCmLY"
      },
      "execution_count": null,
      "outputs": []
    }
  ]
}