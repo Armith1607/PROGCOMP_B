{
  "nbformat": 4,
  "nbformat_minor": 0,
  "metadata": {
    "colab": {
      "name": "Untitled2.ipynb",
      "provenance": []
    },
    "kernelspec": {
      "name": "python3",
      "display_name": "Python 3"
    },
    "language_info": {
      "name": "python"
    }
  },
  "cells": [
    {
      "cell_type": "markdown",
      "source": [
        "#Ejercicio #1\n"
      ],
      "metadata": {
        "id": "Yrrg5uVnVylq"
      }
    },
    {
      "cell_type": "code",
      "source": [
        "n=0\n",
        "x=int(input(\"ingrese un numero: \"))\n",
        "for y in range(1,x):\n",
        "  if x%y==0:\n",
        "    n=n+1\n",
        "if n==2:    \n",
        "  print(\"No es primo\")\n",
        "else:\n",
        "  print(\"Es primo\")\n",
        "\n"
      ],
      "metadata": {
        "colab": {
          "base_uri": "https://localhost:8080/"
        },
        "id": "xuHDVrQNaKut",
        "outputId": "db243ae6-685f-4221-bf80-ebaaa7d220b3"
      },
      "execution_count": 26,
      "outputs": [
        {
          "output_type": "stream",
          "name": "stdout",
          "text": [
            "ingrese un numero: 2\n",
            "Es primo\n"
          ]
        }
      ]
    },
    {
      "cell_type": "markdown",
      "source": [
        "#Ejercicio 2\n"
      ],
      "metadata": {
        "id": "Dw7veZDbcayO"
      }
    },
    {
      "cell_type": "code",
      "source": [
        "x=0\n",
        "y=1\n",
        "w=0\n",
        "print(x)\n",
        "print(y)\n",
        "for z in range(1,29):\n",
        "  w=x+y\n",
        "  (x,y)=(y,x)\n",
        "  y=w\n",
        "  print(w)"
      ],
      "metadata": {
        "colab": {
          "base_uri": "https://localhost:8080/"
        },
        "id": "4vB5KUh2bH3p",
        "outputId": "68e11703-88bb-4071-b67d-023c3913c7a2"
      },
      "execution_count": 27,
      "outputs": [
        {
          "output_type": "stream",
          "name": "stdout",
          "text": [
            "0\n",
            "1\n",
            "1\n",
            "2\n",
            "3\n",
            "5\n",
            "8\n",
            "13\n",
            "21\n",
            "34\n",
            "55\n",
            "89\n",
            "144\n",
            "233\n",
            "377\n",
            "610\n",
            "987\n",
            "1597\n",
            "2584\n",
            "4181\n",
            "6765\n",
            "10946\n",
            "17711\n",
            "28657\n",
            "46368\n",
            "75025\n",
            "121393\n",
            "196418\n",
            "317811\n",
            "514229\n"
          ]
        }
      ]
    },
    {
      "cell_type": "markdown",
      "source": [
        "#Ejercicio 3"
      ],
      "metadata": {
        "id": "ReCsvlGqdH78"
      }
    },
    {
      "cell_type": "code",
      "source": [
        "n=int(input(\"escriba un numero: \"))\n",
        "z=1\n",
        "for x in range(n,1,-1):\n",
        "  z=x*z\n",
        "  print(f\"{n}! = {z}\")"
      ],
      "metadata": {
        "colab": {
          "base_uri": "https://localhost:8080/"
        },
        "id": "cNiB-7kCdKT7",
        "outputId": "33dbb933-5aa2-46ec-eb1a-4b3948c27134"
      },
      "execution_count": 28,
      "outputs": [
        {
          "output_type": "stream",
          "name": "stdout",
          "text": [
            "escriba un numero: 5\n",
            "5! = 5\n",
            "5! = 20\n",
            "5! = 60\n",
            "5! = 120\n"
          ]
        }
      ]
    },
    {
      "cell_type": "markdown",
      "source": [
        "#Ejercicio 4"
      ],
      "metadata": {
        "id": "bSO1Jf3AdwOz"
      }
    },
    {
      "cell_type": "code",
      "source": [
        "for y in range(1,10):\n",
        "  n=int(input(\"escriba un numero: \"))\n",
        "  z=1\n",
        "  for x in range(n,1,-1):\n",
        "    z=x*z\n",
        "    print(f\"{n}! = {z}\")"
      ],
      "metadata": {
        "colab": {
          "base_uri": "https://localhost:8080/"
        },
        "id": "GOGDiIY_dx61",
        "outputId": "ef363c38-09f1-414e-dbc2-aa533c4ed27d"
      },
      "execution_count": null,
      "outputs": [
        {
          "output_type": "stream",
          "name": "stdout",
          "text": [
            "escriba un numero: 2\n",
            "2! = 2\n",
            "escriba un numero: 5\n",
            "5! = 5\n",
            "5! = 20\n",
            "5! = 60\n",
            "5! = 120\n"
          ]
        }
      ]
    },
    {
      "cell_type": "markdown",
      "source": [
        "#ejercicio 5"
      ],
      "metadata": {
        "id": "hkpupUQ8fazJ"
      }
    },
    {
      "cell_type": "code",
      "source": [
        ""
      ],
      "metadata": {
        "id": "KMdMGzwMffRp"
      },
      "execution_count": null,
      "outputs": []
    }
  ]
}